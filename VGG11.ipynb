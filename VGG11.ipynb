{
  "nbformat": 4,
  "nbformat_minor": 0,
  "metadata": {
    "colab": {
      "name": "VGG11.ipynb",
      "provenance": [],
      "authorship_tag": "ABX9TyObZWC6PD1EmfZgwae7Cw8H",
      "include_colab_link": true
    },
    "kernelspec": {
      "display_name": "Python 3",
      "name": "python3"
    },
    "language_info": {
      "name": "python"
    }
  },
  "cells": [
    {
      "cell_type": "markdown",
      "metadata": {
        "id": "view-in-github",
        "colab_type": "text"
      },
      "source": [
        "<a href=\"https://colab.research.google.com/github/lotaa/VGG-Paper/blob/master/VGG11.ipynb\" target=\"_parent\"><img src=\"https://colab.research.google.com/assets/colab-badge.svg\" alt=\"Open In Colab\"/></a>"
      ]
    },
    {
      "cell_type": "markdown",
      "metadata": {
        "id": "tzbwJf4OvNi5"
      },
      "source": [
        "#Example OF creating a CNN model vgg blocks"
      ]
    },
    {
      "cell_type": "code",
      "metadata": {
        "colab": {
          "base_uri": "https://localhost:8080/"
        },
        "id": "Xel6gSStI2Nd",
        "outputId": "f637a8eb-ffa5-498c-9724-5b19cc89cab9"
      },
      "source": [
        "import keras\n",
        "from keras.models import Model\n",
        "from keras.layers import Input\n",
        "from keras.layers import MaxPooling2D\n",
        "from keras.utils.vis_utils import plot_model \n",
        "from keras.models import Sequential\n",
        "from keras.layers import Dense, Conv2D, Dropout, MaxPool2D, Flatten\n",
        "model = Sequential()\n",
        "model.add(Conv2D(64, (3,3), input_shape=(32,32,3), activation=\"relu\", padding=\"same\"))\n",
        "model.add(MaxPool2D((2,2), (2,2)))\n",
        "model.add(Conv2D(128, (3,3), activation=\"relu\", padding=\"same\"))\n",
        "model.add(MaxPool2D((2,2), (2,2)))\n",
        "model.add(Conv2D(256, (3,3), activation=\"relu\", padding=\"same\"))\n",
        "model.add(Conv2D(256, (3,3), activation=\"relu\", padding=\"same\"))\n",
        "model.add(MaxPool2D((2,2), (2,2)))\n",
        "model.add(Conv2D(512, (3,3), activation=\"relu\", padding=\"same\"))\n",
        "model.add(Conv2D(512, (3,3), activation=\"relu\", padding=\"same\"))\n",
        "model.add(MaxPool2D((2,2), (2,2)))\n",
        "model.add(Conv2D(512, (3,3), activation=\"relu\", padding=\"same\"))\n",
        "model.add(Conv2D(512, (3,3), activation=\"relu\", padding=\"same\"))\n",
        "model.add(MaxPool2D((2,2), (2,2)))\n",
        "model.add(Flatten())\n",
        "model.add(Dense(4096, activation=\"relu\"))\n",
        "model.add(Dropout(0.5))\n",
        "model.add(Dense(4096, activation=\"relu\"))\n",
        "model.add(Dense(10, activation=\"softmax\"))\n",
        "#summarize model\n",
        "model.summary()\n",
        "\n",
        "#plot model architecture\n",
        "#plot_model (model, show_shapes= True, to_file ='multiple_vgg_blocks.png')"
      ],
      "execution_count": null,
      "outputs": [
        {
          "name": "stdout",
          "output_type": "stream",
          "text": [
            "Model: \"sequential\"\n",
            "_________________________________________________________________\n",
            " Layer (type)                Output Shape              Param #   \n",
            "=================================================================\n",
            " conv2d (Conv2D)             (None, 32, 32, 64)        1792      \n",
            "                                                                 \n",
            " max_pooling2d (MaxPooling2D  (None, 16, 16, 64)       0         \n",
            " )                                                               \n",
            "                                                                 \n",
            " conv2d_1 (Conv2D)           (None, 16, 16, 128)       73856     \n",
            "                                                                 \n",
            " max_pooling2d_1 (MaxPooling  (None, 8, 8, 128)        0         \n",
            " 2D)                                                             \n",
            "                                                                 \n",
            " conv2d_2 (Conv2D)           (None, 8, 8, 256)         295168    \n",
            "                                                                 \n",
            " conv2d_3 (Conv2D)           (None, 8, 8, 256)         590080    \n",
            "                                                                 \n",
            " max_pooling2d_2 (MaxPooling  (None, 4, 4, 256)        0         \n",
            " 2D)                                                             \n",
            "                                                                 \n",
            " conv2d_4 (Conv2D)           (None, 4, 4, 512)         1180160   \n",
            "                                                                 \n",
            " conv2d_5 (Conv2D)           (None, 4, 4, 512)         2359808   \n",
            "                                                                 \n",
            " max_pooling2d_3 (MaxPooling  (None, 2, 2, 512)        0         \n",
            " 2D)                                                             \n",
            "                                                                 \n",
            " conv2d_6 (Conv2D)           (None, 2, 2, 512)         2359808   \n",
            "                                                                 \n",
            " conv2d_7 (Conv2D)           (None, 2, 2, 512)         2359808   \n",
            "                                                                 \n",
            " max_pooling2d_4 (MaxPooling  (None, 1, 1, 512)        0         \n",
            " 2D)                                                             \n",
            "                                                                 \n",
            " flatten (Flatten)           (None, 512)               0         \n",
            "                                                                 \n",
            " dense (Dense)               (None, 4096)              2101248   \n",
            "                                                                 \n",
            " dropout (Dropout)           (None, 4096)              0         \n",
            "                                                                 \n",
            " dense_1 (Dense)             (None, 4096)              16781312  \n",
            "                                                                 \n",
            " dense_2 (Dense)             (None, 10)                40970     \n",
            "                                                                 \n",
            "=================================================================\n",
            "Total params: 28,144,010\n",
            "Trainable params: 28,144,010\n",
            "Non-trainable params: 0\n",
            "_________________________________________________________________\n"
          ]
        }
      ]
    },
    {
      "cell_type": "code",
      "metadata": {
        "colab": {
          "background_save": true
        },
        "id": "LV8uyxan-iKq"
      },
      "source": [
        "model.compile(loss=keras.losses.categorical_crossentropy, optimizer='adam', metrics = ['accuracy'])"
      ],
      "execution_count": null,
      "outputs": []
    },
    {
      "cell_type": "code",
      "metadata": {
        "colab": {
          "base_uri": "https://localhost:8080/"
        },
        "id": "y56AzuIc-5sL",
        "outputId": "f1c9ee70-17e6-4b10-fe21-f7e614f4357e"
      },
      "source": [
        "#keras library for CIFAR10 dataset\n",
        "from keras.datasets import cifar10\n",
        "(x_train, y_train), (x_test, y_test) = cifar10.load_data()\n",
        "\n",
        "#Train-Validation-test spilt \n",
        "from sklearn.model_selection import train_test_split\n",
        "x_train, x_val, y_train, y_val =train_test_split(x_train, y_train, test_size=0.3)\n",
        "\n",
        "#Dimension of the CIFAR10 datasets\n",
        "print((x_train.shape,y_train.shape))\n",
        "print((x_val.shape,y_val.shape))\n",
        "print((x_test.shape,y_test.shape))"
      ],
      "execution_count": null,
      "outputs": [
        {
          "name": "stdout",
          "output_type": "stream",
          "text": [
            "((35000, 32, 32, 3), (35000, 1))\n",
            "((15000, 32, 32, 3), (15000, 1))\n",
            "((10000, 32, 32, 3), (10000, 1))\n"
          ]
        }
      ]
    },
    {
      "cell_type": "code",
      "metadata": {
        "colab": {
          "base_uri": "https://localhost:8080/"
        },
        "id": "jWDrkluZ_C-F",
        "outputId": "fc25487a-adcb-4538-c2ae-6a90c6723fc5"
      },
      "source": [
        "#Ohot Encoding the labels\n",
        "from sklearn.utils.multiclass import unique_labels\n",
        "from keras.utils.np_utils import to_categorical\n",
        "\n",
        "#since we have 10 classes we should expect the shape[1] of y_train, y_val ,y_test\n",
        "y_test = to_categorical(y_test)\n",
        "y_val = to_categorical(y_val)\n",
        "y_train = to_categorical(y_train)\n",
        "\n",
        "#verifying the dimension after one hot encoding\n",
        "print((x_train.shape,y_train.shape))\n",
        "print((x_val.shape,y_val.shape))\n",
        "print((x_test.shape,y_test.shape))"
      ],
      "execution_count": null,
      "outputs": [
        {
          "name": "stdout",
          "output_type": "stream",
          "text": [
            "((35000, 32, 32, 3), (35000, 10))\n",
            "((15000, 32, 32, 3), (15000, 10))\n",
            "((10000, 32, 32, 3), (10000, 10))\n"
          ]
        }
      ]
    },
    {
      "cell_type": "code",
      "metadata": {
        "id": "pqvnbynK_Hsk"
      },
      "source": [
        "# Image Data Augmentation\n",
        "from keras.preprocessing.image import ImageDataGenerator\n",
        "train_generator = ImageDataGenerator(rotation_range = 2, horizontal_flip =True, zoom_range =0.1)\n",
        "val_generator = ImageDataGenerator(rotation_range = 2, horizontal_flip =True, zoom_range =0.1)\n",
        "test_generator = ImageDataGenerator(rotation_range = 2, horizontal_flip =True, zoom_range =0.1)\n",
        "\n",
        "#Fitting the agumentation defined above to the data\n",
        "train_generator.fit(x_train)\n",
        "val_generator.fit(x_val)\n",
        "test_generator.fit(x_test)"
      ],
      "execution_count": null,
      "outputs": []
    },
    {
      "cell_type": "code",
      "metadata": {
        "id": "PhwakSPN_Lgy"
      },
      "source": [
        "#learning Rate AnneaLer\n",
        "from keras.callbacks import ReduceLROnPlateau\n",
        "lrr = ReduceLROnPlateau(monitor ='val_acc', factor =0.01 , patience =3 ,min_lr =1e-5 )"
      ],
      "execution_count": null,
      "outputs": []
    },
    {
      "cell_type": "code",
      "metadata": {
        "id": "jpZYGRNI_PgA"
      },
      "source": [
        "#Define parameters\n",
        "batch_size =100\n",
        "epochs =5\n",
        "learn_rate =0.01"
      ],
      "execution_count": null,
      "outputs": []
    },
    {
      "cell_type": "code",
      "metadata": {
        "colab": {
          "base_uri": "https://localhost:8080/"
        },
        "id": "yBx0K8NF_UKJ",
        "outputId": "867deb26-1635-4807-fe0b-2a912bc85c78"
      },
      "source": [
        "model.fit_generator(train_generator.flow(x_train, y_train, batch_size=batch_size), epochs=epochs, steps_per_epoch= x_train.shape[0]//batch_size, validation_data=val_generator.flow(x_val, y_val, batch_size=batch_size), validation_steps=250, callbacks=[lrr],verbose=1 )"
      ],
      "execution_count": 9,
      "outputs": [
        {
          "metadata": {
            "tags": null
          },
          "name": "stderr",
          "output_type": "stream",
          "text": [
            "/usr/local/lib/python3.7/dist-packages/ipykernel_launcher.py:1: UserWarning: `Model.fit_generator` is deprecated and will be removed in a future version. Please use `Model.fit`, which supports generators.\n",
            "  \"\"\"Entry point for launching an IPython kernel.\n"
          ]
        },
        {
          "output_type": "stream",
          "name": "stdout",
          "text": [
            "Epoch 1/5\n",
            "350/350 [==============================] - ETA: 0s - loss: 2.2167 - accuracy: 0.2466WARNING:tensorflow:Your input ran out of data; interrupting training. Make sure that your dataset or generator can generate at least `steps_per_epoch * epochs` batches (in this case, 250 batches). You may need to use the repeat() function when building your dataset.\n",
            "WARNING:tensorflow:Learning rate reduction is conditioned on metric `val_acc` which is not available. Available metrics are: loss,accuracy,val_loss,val_accuracy,lr\n",
            "350/350 [==============================] - 2065s 6s/step - loss: 2.2167 - accuracy: 0.2466 - val_loss: 1.6152 - val_accuracy: 0.3943 - lr: 0.0010\n",
            "Epoch 2/5\n",
            "350/350 [==============================] - ETA: 0s - loss: 1.5432 - accuracy: 0.4192WARNING:tensorflow:Learning rate reduction is conditioned on metric `val_acc` which is not available. Available metrics are: loss,accuracy,lr\n",
            "350/350 [==============================] - 1894s 5s/step - loss: 1.5432 - accuracy: 0.4192 - lr: 0.0010\n",
            "Epoch 3/5\n",
            "350/350 [==============================] - ETA: 0s - loss: 1.3366 - accuracy: 0.5160WARNING:tensorflow:Learning rate reduction is conditioned on metric `val_acc` which is not available. Available metrics are: loss,accuracy,lr\n",
            "350/350 [==============================] - 1889s 5s/step - loss: 1.3366 - accuracy: 0.5160 - lr: 0.0010\n",
            "Epoch 4/5\n",
            "350/350 [==============================] - ETA: 0s - loss: 1.1926 - accuracy: 0.5761WARNING:tensorflow:Learning rate reduction is conditioned on metric `val_acc` which is not available. Available metrics are: loss,accuracy,lr\n",
            "350/350 [==============================] - 1935s 6s/step - loss: 1.1926 - accuracy: 0.5761 - lr: 0.0010\n",
            "Epoch 5/5\n",
            "350/350 [==============================] - ETA: 0s - loss: 1.0993 - accuracy: 0.6167WARNING:tensorflow:Learning rate reduction is conditioned on metric `val_acc` which is not available. Available metrics are: loss,accuracy,lr\n",
            "350/350 [==============================] - 1966s 6s/step - loss: 1.0993 - accuracy: 0.6167 - lr: 0.0010\n"
          ]
        },
        {
          "output_type": "execute_result",
          "data": {
            "text/plain": [
              "<keras.callbacks.History at 0x7fc79c9fb410>"
            ]
          },
          "metadata": {},
          "execution_count": 9
        }
      ]
    },
    {
      "cell_type": "code",
      "metadata": {
        "id": "uUQxuDtgMACM"
      },
      "source": [
        "#Define function for confusion matrix plot\n",
        "from sklearn.metrics import ConfusionMatrixDisplay\n",
        "from sklearn.metrics import confusion_matrix\n",
        "import matplotlib.pyplot as plt\n",
        "def plot_confusion_matrix(y_true, y_pred, classes, normalization=False, title=None, cmap=plt.cm.Blues):\n",
        "  if not title:\n",
        "    if normalization:\n",
        "      title ='Normalized confusion matrix'\n",
        "    else:\n",
        "      title ='confusion matrix, without Normalization'\n",
        "      \n",
        "\n",
        "  #compute confusion matrix \n",
        "  cm = confusion_matrix(y_true, y_pred)\n",
        "  if normalization:\n",
        "    cm =cm.astype('float') / cm.sum(axis=1)[:np.newaxis]\n",
        "    print(\"Normalized confusion matrix\")\n",
        "  else:\n",
        "      print(\"confusion matrix, without Normalization\")\n",
        "#print Confusion matrix\n",
        "  fig, ax = plt.subplots(figsize=(7,7))\n",
        "  img=ax.imshow(cm, interpolation='nearest', cmap=cmap)\n",
        "  ax.figure.colorbar(img, ax=ax)\n",
        "\n",
        "  # We want show all ticks\n",
        "  ax.set(#xticks=np.arange(cm.shape[1]),\n",
        "         #yticks=np.arange(cm.shape[0]),\n",
        "         #xtickslabels=classes, #ytickslabels=classes,\n",
        "         title =title,\n",
        "         ylabel='True label',\n",
        "         xlabel='predict label'\n",
        "  )\n",
        "#Rotate the tick labels and set their alignment \n",
        "  plt.setp(ax.get_xticklabels(),rotation=45, ha='right', rotation_mode=\"anchor\")\n",
        "\n",
        "# Loop over data dimensions and create text annotations\n",
        "  fmt='.2f' if normalization else 'd'\n",
        "  thresh =cm.max() /2.0\n",
        "  for i in range(cm.shape[0]):\n",
        "    for j in range(cm.shape[1]):\n",
        "      ax.text(j, i, format(cm[i,j], fmt),\n",
        "            ha =\"center\",va='center',color=\"white\" if cm[i,j] > thresh else \"black\"\n",
        "        )\n",
        "    fig.tight_layout()\n",
        "    return ax\n",
        "import numpy as np\n",
        "\n",
        "np.set_printoptions(precision=2)"
      ],
      "execution_count": 10,
      "outputs": []
    },
    {
      "cell_type": "code",
      "metadata": {
        "id": "LkHWuLBHSQRc"
      },
      "source": [
        "model.save('model1.h5')"
      ],
      "execution_count": 11,
      "outputs": []
    },
    {
      "cell_type": "code",
      "metadata": {
        "colab": {
          "base_uri": "https://localhost:8080/",
          "height": 549
        },
        "id": "sXCwDVqdSXu2",
        "outputId": "e567525a-31e8-4f2d-9f35-099719c0f1e0"
      },
      "source": [
        "y_pred=model.predict(x_test) \n",
        "y_pred=np.argmax(y_pred,axis=1)\n",
        "y_true = np.argmax(y_test,axis=1)\n",
        "labels = [\"airplane\",\"automobile\",\"bird\",\"cat\",\"deer\", \"dog\", \"frog\", \"horse\", \"ship\", \"truck\"]\n",
        "\n",
        "cm = confusion_matrix(y_true, y_pred)\n",
        "\n",
        "plot_confusion_matrix(y_true, y_pred, classes=labels, title ='confusion matrix, without Normalization')"
      ],
      "execution_count": 12,
      "outputs": [
        {
          "output_type": "stream",
          "name": "stdout",
          "text": [
            "confusion matrix, without Normalization\n"
          ]
        },
        {
          "output_type": "execute_result",
          "data": {
            "text/plain": [
              "<matplotlib.axes._subplots.AxesSubplot at 0x7fc79951f650>"
            ]
          },
          "metadata": {},
          "execution_count": 12
        },
        {
          "output_type": "display_data",
          "data": {
            "image/png": "[encoded data removed]",
            "text/plain": [
              "<Figure size 504x504 with 2 Axes>"
            ]
          },
          "metadata": {
            "needs_background": "light"
          }
        }
      ]
    },
    {
      "cell_type": "code",
      "metadata": {
        "colab": {
          "base_uri": "https://localhost:8080/"
        },
        "id": "ZZIXeN0ASdpv",
        "outputId": "bcb72272-0de4-4734-f8b6-f132ad304c17"
      },
      "source": [
        "from sklearn.metrics import accuracy_score\n",
        "print(\"Accuracy_ Score\", accuracy_score(y_true,y_pred))"
      ],
      "execution_count": 13,
      "outputs": [
        {
          "output_type": "stream",
          "name": "stdout",
          "text": [
            "Accuracy_ Score 0.6225\n"
          ]
        }
      ]
    }
  ]
}